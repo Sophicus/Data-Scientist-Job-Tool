{
 "cells": [
  {
   "cell_type": "code",
   "execution_count": 1,
   "metadata": {},
   "outputs": [],
   "source": [
    "# Import libraries\n",
    "import pandas as pd\n",
    "import numpy as np\n",
    "from collections import Counter\n",
    "import matplotlib.pyplot as plt\n",
    "import seaborn as sns\n",
    "import scipy.stats\n",
    "import warnings\n",
    "\n",
    "warnings.simplefilter('ignore')\n",
    "%matplotlib inline"
   ]
  },
  {
   "cell_type": "code",
   "execution_count": 2,
   "metadata": {},
   "outputs": [
    {
     "data": {
      "text/html": [
       "<div>\n",
       "<style scoped>\n",
       "    .dataframe tbody tr th:only-of-type {\n",
       "        vertical-align: middle;\n",
       "    }\n",
       "\n",
       "    .dataframe tbody tr th {\n",
       "        vertical-align: top;\n",
       "    }\n",
       "\n",
       "    .dataframe thead th {\n",
       "        text-align: right;\n",
       "    }\n",
       "</style>\n",
       "<table border=\"1\" class=\"dataframe\">\n",
       "  <thead>\n",
       "    <tr style=\"text-align: right;\">\n",
       "      <th></th>\n",
       "      <th>Respondent</th>\n",
       "      <th>Hobby</th>\n",
       "      <th>OpenSource</th>\n",
       "      <th>Country</th>\n",
       "      <th>Student</th>\n",
       "      <th>Employment</th>\n",
       "      <th>FormalEducation</th>\n",
       "      <th>UndergradMajor</th>\n",
       "      <th>CompanySize</th>\n",
       "      <th>DevType</th>\n",
       "      <th>...</th>\n",
       "      <th>Exercise</th>\n",
       "      <th>Gender</th>\n",
       "      <th>SexualOrientation</th>\n",
       "      <th>EducationParents</th>\n",
       "      <th>RaceEthnicity</th>\n",
       "      <th>Age</th>\n",
       "      <th>Dependents</th>\n",
       "      <th>MilitaryUS</th>\n",
       "      <th>SurveyTooLong</th>\n",
       "      <th>SurveyEasy</th>\n",
       "    </tr>\n",
       "  </thead>\n",
       "  <tbody>\n",
       "    <tr>\n",
       "      <th>0</th>\n",
       "      <td>1</td>\n",
       "      <td>Yes</td>\n",
       "      <td>No</td>\n",
       "      <td>Kenya</td>\n",
       "      <td>No</td>\n",
       "      <td>Employed part-time</td>\n",
       "      <td>Bachelor’s degree (BA, BS, B.Eng., etc.)</td>\n",
       "      <td>Mathematics or statistics</td>\n",
       "      <td>20 to 99 employees</td>\n",
       "      <td>Full-stack developer</td>\n",
       "      <td>...</td>\n",
       "      <td>3 - 4 times per week</td>\n",
       "      <td>Male</td>\n",
       "      <td>Straight or heterosexual</td>\n",
       "      <td>Bachelor’s degree (BA, BS, B.Eng., etc.)</td>\n",
       "      <td>Black or of African descent</td>\n",
       "      <td>25 - 34 years old</td>\n",
       "      <td>Yes</td>\n",
       "      <td>NaN</td>\n",
       "      <td>The survey was an appropriate length</td>\n",
       "      <td>Very easy</td>\n",
       "    </tr>\n",
       "    <tr>\n",
       "      <th>1</th>\n",
       "      <td>3</td>\n",
       "      <td>Yes</td>\n",
       "      <td>Yes</td>\n",
       "      <td>United Kingdom</td>\n",
       "      <td>No</td>\n",
       "      <td>Employed full-time</td>\n",
       "      <td>Bachelor’s degree (BA, BS, B.Eng., etc.)</td>\n",
       "      <td>A natural science (ex. biology, chemistry, phy...</td>\n",
       "      <td>10,000 or more employees</td>\n",
       "      <td>Database administrator;DevOps specialist;Full-...</td>\n",
       "      <td>...</td>\n",
       "      <td>Daily or almost every day</td>\n",
       "      <td>Male</td>\n",
       "      <td>Straight or heterosexual</td>\n",
       "      <td>Bachelor’s degree (BA, BS, B.Eng., etc.)</td>\n",
       "      <td>White or of European descent</td>\n",
       "      <td>35 - 44 years old</td>\n",
       "      <td>Yes</td>\n",
       "      <td>NaN</td>\n",
       "      <td>The survey was an appropriate length</td>\n",
       "      <td>Somewhat easy</td>\n",
       "    </tr>\n",
       "    <tr>\n",
       "      <th>2</th>\n",
       "      <td>4</td>\n",
       "      <td>Yes</td>\n",
       "      <td>Yes</td>\n",
       "      <td>United States</td>\n",
       "      <td>No</td>\n",
       "      <td>Employed full-time</td>\n",
       "      <td>Associate degree</td>\n",
       "      <td>Computer science, computer engineering, or sof...</td>\n",
       "      <td>20 to 99 employees</td>\n",
       "      <td>Engineering manager;Full-stack developer</td>\n",
       "      <td>...</td>\n",
       "      <td>NaN</td>\n",
       "      <td>NaN</td>\n",
       "      <td>NaN</td>\n",
       "      <td>NaN</td>\n",
       "      <td>NaN</td>\n",
       "      <td>NaN</td>\n",
       "      <td>NaN</td>\n",
       "      <td>NaN</td>\n",
       "      <td>NaN</td>\n",
       "      <td>NaN</td>\n",
       "    </tr>\n",
       "    <tr>\n",
       "      <th>3</th>\n",
       "      <td>5</td>\n",
       "      <td>No</td>\n",
       "      <td>No</td>\n",
       "      <td>United States</td>\n",
       "      <td>No</td>\n",
       "      <td>Employed full-time</td>\n",
       "      <td>Bachelor’s degree (BA, BS, B.Eng., etc.)</td>\n",
       "      <td>Computer science, computer engineering, or sof...</td>\n",
       "      <td>100 to 499 employees</td>\n",
       "      <td>Full-stack developer</td>\n",
       "      <td>...</td>\n",
       "      <td>I don't typically exercise</td>\n",
       "      <td>Male</td>\n",
       "      <td>Straight or heterosexual</td>\n",
       "      <td>Some college/university study without earning ...</td>\n",
       "      <td>White or of European descent</td>\n",
       "      <td>35 - 44 years old</td>\n",
       "      <td>No</td>\n",
       "      <td>No</td>\n",
       "      <td>The survey was an appropriate length</td>\n",
       "      <td>Somewhat easy</td>\n",
       "    </tr>\n",
       "    <tr>\n",
       "      <th>4</th>\n",
       "      <td>7</td>\n",
       "      <td>Yes</td>\n",
       "      <td>No</td>\n",
       "      <td>South Africa</td>\n",
       "      <td>Yes, part-time</td>\n",
       "      <td>Employed full-time</td>\n",
       "      <td>Some college/university study without earning ...</td>\n",
       "      <td>Computer science, computer engineering, or sof...</td>\n",
       "      <td>10,000 or more employees</td>\n",
       "      <td>Data or business analyst;Desktop or enterprise...</td>\n",
       "      <td>...</td>\n",
       "      <td>3 - 4 times per week</td>\n",
       "      <td>Male</td>\n",
       "      <td>Straight or heterosexual</td>\n",
       "      <td>Some college/university study without earning ...</td>\n",
       "      <td>White or of European descent</td>\n",
       "      <td>18 - 24 years old</td>\n",
       "      <td>Yes</td>\n",
       "      <td>NaN</td>\n",
       "      <td>The survey was an appropriate length</td>\n",
       "      <td>Somewhat easy</td>\n",
       "    </tr>\n",
       "  </tbody>\n",
       "</table>\n",
       "<p>5 rows × 129 columns</p>\n",
       "</div>"
      ],
      "text/plain": [
       "   Respondent Hobby OpenSource         Country         Student  \\\n",
       "0           1   Yes         No           Kenya              No   \n",
       "1           3   Yes        Yes  United Kingdom              No   \n",
       "2           4   Yes        Yes   United States              No   \n",
       "3           5    No         No   United States              No   \n",
       "4           7   Yes         No    South Africa  Yes, part-time   \n",
       "\n",
       "           Employment                                    FormalEducation  \\\n",
       "0  Employed part-time           Bachelor’s degree (BA, BS, B.Eng., etc.)   \n",
       "1  Employed full-time           Bachelor’s degree (BA, BS, B.Eng., etc.)   \n",
       "2  Employed full-time                                   Associate degree   \n",
       "3  Employed full-time           Bachelor’s degree (BA, BS, B.Eng., etc.)   \n",
       "4  Employed full-time  Some college/university study without earning ...   \n",
       "\n",
       "                                      UndergradMajor  \\\n",
       "0                          Mathematics or statistics   \n",
       "1  A natural science (ex. biology, chemistry, phy...   \n",
       "2  Computer science, computer engineering, or sof...   \n",
       "3  Computer science, computer engineering, or sof...   \n",
       "4  Computer science, computer engineering, or sof...   \n",
       "\n",
       "                CompanySize  \\\n",
       "0        20 to 99 employees   \n",
       "1  10,000 or more employees   \n",
       "2        20 to 99 employees   \n",
       "3      100 to 499 employees   \n",
       "4  10,000 or more employees   \n",
       "\n",
       "                                             DevType      ...        \\\n",
       "0                               Full-stack developer      ...         \n",
       "1  Database administrator;DevOps specialist;Full-...      ...         \n",
       "2           Engineering manager;Full-stack developer      ...         \n",
       "3                               Full-stack developer      ...         \n",
       "4  Data or business analyst;Desktop or enterprise...      ...         \n",
       "\n",
       "                     Exercise Gender         SexualOrientation  \\\n",
       "0        3 - 4 times per week   Male  Straight or heterosexual   \n",
       "1   Daily or almost every day   Male  Straight or heterosexual   \n",
       "2                         NaN    NaN                       NaN   \n",
       "3  I don't typically exercise   Male  Straight or heterosexual   \n",
       "4        3 - 4 times per week   Male  Straight or heterosexual   \n",
       "\n",
       "                                    EducationParents  \\\n",
       "0           Bachelor’s degree (BA, BS, B.Eng., etc.)   \n",
       "1           Bachelor’s degree (BA, BS, B.Eng., etc.)   \n",
       "2                                                NaN   \n",
       "3  Some college/university study without earning ...   \n",
       "4  Some college/university study without earning ...   \n",
       "\n",
       "                  RaceEthnicity                Age Dependents  MilitaryUS  \\\n",
       "0   Black or of African descent  25 - 34 years old        Yes         NaN   \n",
       "1  White or of European descent  35 - 44 years old        Yes         NaN   \n",
       "2                           NaN                NaN        NaN         NaN   \n",
       "3  White or of European descent  35 - 44 years old         No          No   \n",
       "4  White or of European descent  18 - 24 years old        Yes         NaN   \n",
       "\n",
       "                          SurveyTooLong     SurveyEasy  \n",
       "0  The survey was an appropriate length      Very easy  \n",
       "1  The survey was an appropriate length  Somewhat easy  \n",
       "2                                   NaN            NaN  \n",
       "3  The survey was an appropriate length  Somewhat easy  \n",
       "4  The survey was an appropriate length  Somewhat easy  \n",
       "\n",
       "[5 rows x 129 columns]"
      ]
     },
     "execution_count": 2,
     "metadata": {},
     "output_type": "execute_result"
    }
   ],
   "source": [
    "# Read in dataset\n",
    "survey2018 = pd.read_csv(\"Resources/survey_results_public.csv\")\n",
    "survey2018.head()"
   ]
  },
  {
   "cell_type": "code",
   "execution_count": 4,
   "metadata": {},
   "outputs": [
    {
     "name": "stdout",
     "output_type": "stream",
     "text": [
      "The dataset contains 98855 rows and 129 columns.\n"
     ]
    }
   ],
   "source": [
    "# Print shape of dataset\n",
    "print('The dataset contains', np.shape(survey2018)[0], 'rows and', np.shape(survey2018)[1], 'columns.')"
   ]
  },
  {
   "cell_type": "code",
   "execution_count": 5,
   "metadata": {},
   "outputs": [],
   "source": [
    "# Drop unwanted columns\n",
    "survey = survey2018[['Respondent', 'DevType', 'Gender', 'Age', 'TimeAfterBootcamp', 'Salary', \n",
    "                 'NumberMonitors', 'JobSearchStatus', 'LanguageWorkedWith', 'YearsCoding', \n",
    "                 'YearsCodingProf', 'JobSatisfaction', 'CareerSatisfaction']]"
   ]
  },
  {
   "cell_type": "code",
   "execution_count": 9,
   "metadata": {},
   "outputs": [],
   "source": [
    "# Delete rows where DevType is missing\n",
    "survey = survey[pd.notnull(survey['DevType'])]"
   ]
  },
  {
   "cell_type": "code",
   "execution_count": 10,
   "metadata": {},
   "outputs": [
    {
     "name": "stdout",
     "output_type": "stream",
     "text": [
      "The reduced dataset contains 92098 rows and 13 columns.\n"
     ]
    }
   ],
   "source": [
    "#what's the new dataSet look like?\n",
    "print('The reduced dataset contains', np.shape(survey)[0], 'rows and', np.shape(survey)[1], 'columns.')"
   ]
  },
  {
   "cell_type": "code",
   "execution_count": 11,
   "metadata": {},
   "outputs": [
    {
     "data": {
      "text/plain": [
       "Back-end developer                                                              6417\n",
       "Full-stack developer                                                            6104\n",
       "Back-end developer;Front-end developer;Full-stack developer                     4460\n",
       "Mobile developer                                                                3518\n",
       "Student                                                                         3222\n",
       "Back-end developer;Full-stack developer                                         3128\n",
       "Front-end developer                                                             2608\n",
       "Front-end developer;Full-stack developer                                        1117\n",
       "Back-end developer;Front-end developer                                          1030\n",
       "Back-end developer;Front-end developer;Full-stack developer;Mobile developer    1008\n",
       "Name: DevType, dtype: int64"
      ]
     },
     "execution_count": 11,
     "metadata": {},
     "output_type": "execute_result"
    }
   ],
   "source": [
    "# Display (top 10) value counts for DevType\n",
    "survey['DevType'].value_counts().nlargest(10)"
   ]
  },
  {
   "cell_type": "code",
   "execution_count": 12,
   "metadata": {},
   "outputs": [
    {
     "data": {
      "text/html": [
       "<div>\n",
       "<style scoped>\n",
       "    .dataframe tbody tr th:only-of-type {\n",
       "        vertical-align: middle;\n",
       "    }\n",
       "\n",
       "    .dataframe tbody tr th {\n",
       "        vertical-align: top;\n",
       "    }\n",
       "\n",
       "    .dataframe thead th {\n",
       "        text-align: right;\n",
       "    }\n",
       "</style>\n",
       "<table border=\"1\" class=\"dataframe\">\n",
       "  <thead>\n",
       "    <tr style=\"text-align: right;\">\n",
       "      <th></th>\n",
       "      <th>Respondent</th>\n",
       "      <th>DevType</th>\n",
       "      <th>Gender</th>\n",
       "      <th>Age</th>\n",
       "      <th>TimeAfterBootcamp</th>\n",
       "      <th>Salary</th>\n",
       "      <th>NumberMonitors</th>\n",
       "      <th>JobSearchStatus</th>\n",
       "      <th>LanguageWorkedWith</th>\n",
       "      <th>YearsCoding</th>\n",
       "      <th>YearsCodingProf</th>\n",
       "      <th>JobSatisfaction</th>\n",
       "      <th>CareerSatisfaction</th>\n",
       "    </tr>\n",
       "  </thead>\n",
       "  <tbody>\n",
       "    <tr>\n",
       "      <th>18</th>\n",
       "      <td>29</td>\n",
       "      <td>Data or business analyst;Data scientist or mac...</td>\n",
       "      <td>Female</td>\n",
       "      <td>NaN</td>\n",
       "      <td>NaN</td>\n",
       "      <td>NaN</td>\n",
       "      <td>More than 4</td>\n",
       "      <td>I’m not actively looking, but I am open to new...</td>\n",
       "      <td>C;C++;C#</td>\n",
       "      <td>0-2 years</td>\n",
       "      <td>3-5 years</td>\n",
       "      <td>Slightly satisfied</td>\n",
       "      <td>Extremely satisfied</td>\n",
       "    </tr>\n",
       "    <tr>\n",
       "      <th>28</th>\n",
       "      <td>45</td>\n",
       "      <td>Back-end developer;Data scientist or machine l...</td>\n",
       "      <td>NaN</td>\n",
       "      <td>NaN</td>\n",
       "      <td>NaN</td>\n",
       "      <td>NaN</td>\n",
       "      <td>NaN</td>\n",
       "      <td>I am not interested in new job opportunities</td>\n",
       "      <td>NaN</td>\n",
       "      <td>6-8 years</td>\n",
       "      <td>3-5 years</td>\n",
       "      <td>Extremely satisfied</td>\n",
       "      <td>Extremely satisfied</td>\n",
       "    </tr>\n",
       "    <tr>\n",
       "      <th>40</th>\n",
       "      <td>60</td>\n",
       "      <td>Data scientist or machine learning specialist;...</td>\n",
       "      <td>NaN</td>\n",
       "      <td>NaN</td>\n",
       "      <td>NaN</td>\n",
       "      <td>NaN</td>\n",
       "      <td>1</td>\n",
       "      <td>NaN</td>\n",
       "      <td>C++;Java;JavaScript;Python;R;Swift</td>\n",
       "      <td>9-11 years</td>\n",
       "      <td>NaN</td>\n",
       "      <td>NaN</td>\n",
       "      <td>NaN</td>\n",
       "    </tr>\n",
       "    <tr>\n",
       "      <th>62</th>\n",
       "      <td>91</td>\n",
       "      <td>Back-end developer;Data scientist or machine l...</td>\n",
       "      <td>Male</td>\n",
       "      <td>25 - 34 years old</td>\n",
       "      <td>I already had a full-time job as a developer w...</td>\n",
       "      <td>120000</td>\n",
       "      <td>2</td>\n",
       "      <td>I’m not actively looking, but I am open to new...</td>\n",
       "      <td>C;F#;Haskell;Python;Scala</td>\n",
       "      <td>12-14 years</td>\n",
       "      <td>6-8 years</td>\n",
       "      <td>Moderately satisfied</td>\n",
       "      <td>Neither satisfied nor dissatisfied</td>\n",
       "    </tr>\n",
       "    <tr>\n",
       "      <th>86</th>\n",
       "      <td>129</td>\n",
       "      <td>Back-end developer;Data scientist or machine l...</td>\n",
       "      <td>Male</td>\n",
       "      <td>18 - 24 years old</td>\n",
       "      <td>NaN</td>\n",
       "      <td>120000</td>\n",
       "      <td>1</td>\n",
       "      <td>I’m not actively looking, but I am open to new...</td>\n",
       "      <td>Assembly;C++;JavaScript;Matlab;Perl;Python;SQL...</td>\n",
       "      <td>6-8 years</td>\n",
       "      <td>0-2 years</td>\n",
       "      <td>Neither satisfied nor dissatisfied</td>\n",
       "      <td>Moderately dissatisfied</td>\n",
       "    </tr>\n",
       "  </tbody>\n",
       "</table>\n",
       "</div>"
      ],
      "text/plain": [
       "    Respondent                                            DevType  Gender  \\\n",
       "18          29  Data or business analyst;Data scientist or mac...  Female   \n",
       "28          45  Back-end developer;Data scientist or machine l...     NaN   \n",
       "40          60  Data scientist or machine learning specialist;...     NaN   \n",
       "62          91  Back-end developer;Data scientist or machine l...    Male   \n",
       "86         129  Back-end developer;Data scientist or machine l...    Male   \n",
       "\n",
       "                  Age                                  TimeAfterBootcamp  \\\n",
       "18                NaN                                                NaN   \n",
       "28                NaN                                                NaN   \n",
       "40                NaN                                                NaN   \n",
       "62  25 - 34 years old  I already had a full-time job as a developer w...   \n",
       "86  18 - 24 years old                                                NaN   \n",
       "\n",
       "    Salary NumberMonitors                                    JobSearchStatus  \\\n",
       "18     NaN    More than 4  I’m not actively looking, but I am open to new...   \n",
       "28     NaN            NaN       I am not interested in new job opportunities   \n",
       "40     NaN              1                                                NaN   \n",
       "62  120000              2  I’m not actively looking, but I am open to new...   \n",
       "86  120000              1  I’m not actively looking, but I am open to new...   \n",
       "\n",
       "                                   LanguageWorkedWith  YearsCoding  \\\n",
       "18                                           C;C++;C#    0-2 years   \n",
       "28                                                NaN    6-8 years   \n",
       "40                 C++;Java;JavaScript;Python;R;Swift   9-11 years   \n",
       "62                          C;F#;Haskell;Python;Scala  12-14 years   \n",
       "86  Assembly;C++;JavaScript;Matlab;Perl;Python;SQL...    6-8 years   \n",
       "\n",
       "   YearsCodingProf                     JobSatisfaction  \\\n",
       "18       3-5 years                  Slightly satisfied   \n",
       "28       3-5 years                 Extremely satisfied   \n",
       "40             NaN                                 NaN   \n",
       "62       6-8 years                Moderately satisfied   \n",
       "86       0-2 years  Neither satisfied nor dissatisfied   \n",
       "\n",
       "                    CareerSatisfaction  \n",
       "18                 Extremely satisfied  \n",
       "28                 Extremely satisfied  \n",
       "40                                 NaN  \n",
       "62  Neither satisfied nor dissatisfied  \n",
       "86             Moderately dissatisfied  "
      ]
     },
     "execution_count": 12,
     "metadata": {},
     "output_type": "execute_result"
    }
   ],
   "source": [
    "data_scientist_survey = survey[survey['DevType'].str.contains('Data scientist') == True]\n",
    "data_scientist_survey.head()"
   ]
  },
  {
   "cell_type": "code",
   "execution_count": 13,
   "metadata": {},
   "outputs": [
    {
     "name": "stdout",
     "output_type": "stream",
     "text": [
      "There are 7088 rows in the data scientist dataframe.\n"
     ]
    }
   ],
   "source": [
    "#what's the new dataSet look like?\n",
    "print('There are', len(data_scientist_survey), 'rows in the data scientist dataframe.')"
   ]
  },
  {
   "cell_type": "code",
   "execution_count": 14,
   "metadata": {},
   "outputs": [
    {
     "data": {
      "text/plain": [
       "25 - 34 years old     2512\n",
       "18 - 24 years old     1194\n",
       "35 - 44 years old      855\n",
       "45 - 54 years old      261\n",
       "Under 18 years old     117\n",
       "55 - 64 years old       83\n",
       "65 years or older       15\n",
       "Name: Age, dtype: int64"
      ]
     },
     "execution_count": 14,
     "metadata": {},
     "output_type": "execute_result"
    }
   ],
   "source": [
    "# Age Matters\n",
    "data_scientist_survey['Age'].value_counts()"
   ]
  },
  {
   "cell_type": "code",
   "execution_count": 15,
   "metadata": {},
   "outputs": [
    {
     "name": "stdout",
     "output_type": "stream",
     "text": [
      "I already had a full-time job as a developer when I began the program    268\n",
      "Immediately after graduating                                              85\n",
      "I haven’t gotten a developer job                                          65\n",
      "One to three months                                                       40\n",
      "Less than a month                                                         28\n",
      "Four to six months                                                        22\n",
      "Six months to a year                                                      14\n",
      "Longer than a year                                                        14\n",
      "Name: TimeAfterBootcamp, dtype: int64\n"
     ]
    }
   ],
   "source": [
    "# Bootcamp Matters Survey Question: You indicated previously that you went through a developer training program or bootcamp. \n",
    "#How long did it take you to get a full-time job as a developer after graduating?\n",
    "tabc = data_scientist_survey['TimeAfterBootcamp'].value_counts()\n",
    "print(data_scientist_survey['TimeAfterBootcamp'].value_counts())"
   ]
  },
  {
   "cell_type": "code",
   "execution_count": 16,
   "metadata": {},
   "outputs": [
    {
     "data": {
      "image/png": "[encoded data removed]",
      "text/plain": [
       "<Figure size 432x288 with 1 Axes>"
      ]
     },
     "metadata": {},
     "output_type": "display_data"
    }
   ],
   "source": [
    "x_axis = np.arange(len(tabc))\n",
    "plt.bar(x_axis, tabc, color='r', alpha=0.5, align=\"center\")\n",
    "tick_locations = [value for value in x_axis]\n",
    "plt.xticks(tick_locations, [\"Had Job\", \"At Grad\", \"Nope\", \"1-3M\", \"<M\", \"4-6M\", \"+1yr\", \"6M-1Yr\"])\n",
    "plt.xlim(-.75, len(x_axis)-0.25)\n",
    "plt.ylim(0, max(tabc)+50)\n",
    "plt.title(\"Time After BootCamp to Job\")\n",
    "plt.xlabel(\"Time Frame\")\n",
    "plt.ylabel(\"Number of Data Scientists\")\n",
    "_ = plt.plot()"
   ]
  },
  {
   "cell_type": "code",
   "execution_count": 17,
   "metadata": {},
   "outputs": [
    {
     "name": "stdout",
     "output_type": "stream",
     "text": [
      "2              2997\n",
      "1              1917\n",
      "3               739\n",
      "More than 4      93\n",
      "4                90\n",
      "Name: NumberMonitors, dtype: int64\n"
     ]
    }
   ],
   "source": [
    "#How many monitors is enough? \n",
    "monitors = data_scientist_survey['NumberMonitors'].value_counts()\n",
    "print(data_scientist_survey['NumberMonitors'].value_counts())"
   ]
  },
  {
   "cell_type": "code",
   "execution_count": 53,
   "metadata": {},
   "outputs": [
    {
     "data": {
      "image/png": "[encoded data removed]",
      "text/plain": [
       "<Figure size 432x288 with 1 Axes>"
      ]
     },
     "metadata": {},
     "output_type": "display_data"
    }
   ],
   "source": [
    "# Labels for the sections of our pie chart\n",
    "labels = [\"2\", \"1\", \"3\", \">4\", '4']\n",
    "\n",
    "# The colors of each section of the pie chart\n",
    "colors = [\"red\", \"pink\", \"lightcoral\", \"lightskyblue\", 'lightgreen']\n",
    "\n",
    "# Tells matplotlib to seperate the \"Python\" section from the others\n",
    "explode = (0.1, .1, .1, .5, .5)\n",
    "\n",
    "plt.pie(monitors, explode=explode, labels=labels, colors=colors,\n",
    "        autopct=\"%1.1f%%\", shadow=True, startangle=140)\n",
    "\n",
    "_ = plt.plot()"
   ]
  },
  {
   "cell_type": "markdown",
   "metadata": {},
   "source": [
    "# Job Satisfaction"
   ]
  },
  {
   "cell_type": "code",
   "execution_count": 18,
   "metadata": {
    "scrolled": true
   },
   "outputs": [
    {
     "name": "stdout",
     "output_type": "stream",
     "text": [
      "Moderately satisfied                  2045\n",
      "Extremely satisfied                   1165\n",
      "Slightly satisfied                     728\n",
      "Slightly dissatisfied                  448\n",
      "Moderately dissatisfied                437\n",
      "Neither satisfied nor dissatisfied     345\n",
      "Extremely dissatisfied                 207\n",
      "Name: JobSatisfaction, dtype: int64\n"
     ]
    }
   ],
   "source": [
    "#I can't get no... \n",
    "#Job Satisfaction Counts \n",
    "job_sat = data_scientist_survey['JobSatisfaction'].value_counts()\n",
    "print(data_scientist_survey['JobSatisfaction'].value_counts())"
   ]
  },
  {
   "cell_type": "code",
   "execution_count": 52,
   "metadata": {},
   "outputs": [
    {
     "data": {
      "image/png": "[encoded data removed]",
      "text/plain": [
       "<Figure size 432x288 with 1 Axes>"
      ]
     },
     "metadata": {},
     "output_type": "display_data"
    }
   ],
   "source": [
    "x_axis = np.arange(len(job_sat))\n",
    "plt.bar(x_axis, job_sat, color='r', alpha=0.5, align=\"center\")\n",
    "tick_locations = [value for value in x_axis]\n",
    "plt.xticks(tick_locations, [\"Mod sat\", \"Ex sat\", \"Sl sat\", \"Sl dis\", \"Modt dis\", \"Even\", \"Ex dis\"])\n",
    "plt.xlim(-.75, len(x_axis)-0.25)\n",
    "plt.ylim(0, max(job_sat)+250)\n",
    "plt.title(\"Data Scientist Job Satisfaction\")\n",
    "plt.xlabel(\"Happiness Level\")\n",
    "plt.ylabel(\"Number of Data Scientists\")\n",
    "_ = plt.plot()"
   ]
  },
  {
   "cell_type": "markdown",
   "metadata": {},
   "source": [
    "# Career Satisfaction"
   ]
  },
  {
   "cell_type": "code",
   "execution_count": 19,
   "metadata": {},
   "outputs": [
    {
     "name": "stdout",
     "output_type": "stream",
     "text": [
      "Moderately satisfied                  2400\n",
      "Extremely satisfied                   1298\n",
      "Slightly satisfied                     974\n",
      "Neither satisfied nor dissatisfied     505\n",
      "Slightly dissatisfied                  471\n",
      "Moderately dissatisfied                430\n",
      "Extremely dissatisfied                 223\n",
      "Name: CareerSatisfaction, dtype: int64\n"
     ]
    }
   ],
   "source": [
    "#I can't get no... \n",
    "#Career Satisfaction Counts \n",
    "career_sat = data_scientist_survey['CareerSatisfaction'].value_counts()\n",
    "print(data_scientist_survey['CareerSatisfaction'].value_counts())"
   ]
  },
  {
   "cell_type": "code",
   "execution_count": 51,
   "metadata": {},
   "outputs": [
    {
     "data": {
      "image/png": "[encoded data removed]",
      "text/plain": [
       "<Figure size 432x288 with 1 Axes>"
      ]
     },
     "metadata": {},
     "output_type": "display_data"
    }
   ],
   "source": [
    "x_axis = np.arange(len(career_sat))\n",
    "plt.bar(x_axis, career_sat, color='r', alpha=0.5, align=\"center\")\n",
    "tick_locations = [value for value in x_axis]\n",
    "plt.xticks(tick_locations, [\"Mod sat\", \"Ex sat\", \"Sl sat\", \"Even\", \"Sl dis\", \"Mod dis\", \"Ex dis\"])\n",
    "plt.xlim(-.75, len(x_axis)-0.25)\n",
    "plt.ylim(0, max(career_sat)+250)\n",
    "plt.title(\"Data Scientist Career Happiness\")\n",
    "plt.xlabel(\"Happiness Level\")\n",
    "plt.ylabel(\"Number of Data Scientists\")\n",
    "_ = plt.plot()"
   ]
  },
  {
   "cell_type": "code",
   "execution_count": 91,
   "metadata": {},
   "outputs": [
    {
     "name": "stdout",
     "output_type": "stream",
     "text": [
      "25 - 34 years old     2512\n",
      "18 - 24 years old     1194\n",
      "35 - 44 years old      855\n",
      "45 - 54 years old      261\n",
      "Under 18 years old     117\n",
      "55 - 64 years old       83\n",
      "65 years or older       15\n",
      "Name: Age, dtype: int64\n"
     ]
    }
   ],
   "source": [
    "age_sat = data_scientist_survey['Age'].value_counts()\n",
    "print(data_scientist_survey['Age'].value_counts())"
   ]
  },
  {
   "cell_type": "code",
   "execution_count": 32,
   "metadata": {},
   "outputs": [
    {
     "data": {
      "text/plain": [
       "18     NaN\n",
       "28     NaN\n",
       "40     NaN\n",
       "62    29.5\n",
       "86    21.0\n",
       "Name: Age_mid_range, dtype: float64"
      ]
     },
     "execution_count": 32,
     "metadata": {},
     "output_type": "execute_result"
    }
   ],
   "source": [
    "age_ranges = [(data_scientist_survey['Age'] == 'Under 18 years old'),\n",
    "                      (data_scientist_survey['Age'] == '18 - 24 years old'),\n",
    "                      (data_scientist_survey['Age'] == '25 - 34 years old'),\n",
    "                      (data_scientist_survey['Age'] == '35 - 44 years old'),\n",
    "                      (data_scientist_survey['Age'] == '45 - 54 years old'),\n",
    "                      (data_scientist_survey['Age'] == '55 - 64 years old'),\n",
    "                      (data_scientist_survey['Age'] == '65 years or older')]\n",
    "\n",
    "age_mid = [16, 21, 29.5, 39.5, 49.5, 59.5, 69.5]\n",
    "data_scientist_survey['Age_mid_range'] = np.select(age_ranges, age_mid, default = np.NaN)\n",
    "age_mid_range = data_scientist_survey['Age_mid_range']\n",
    "age_mid_range.head()"
   ]
  },
  {
   "cell_type": "markdown",
   "metadata": {},
   "source": [
    "# *useful: numpy.select\n",
    "\n",
    "numpy.select(condlist, choicelist, default=0)[source]\n",
    "Return an array drawn from elements in choicelist, depending on conditions."
   ]
  },
  {
   "cell_type": "code",
   "execution_count": 123,
   "metadata": {},
   "outputs": [
    {
     "name": "stdout",
     "output_type": "stream",
     "text": [
      "The mean job satisfaction score of data scientists is: 5.19\n"
     ]
    }
   ],
   "source": [
    "conditions_sat = [(data_scientist_survey['JobSatisfaction'] == 'Extremely dissatisfied'),\n",
    "                     (data_scientist_survey['JobSatisfaction'] == 'Moderately dissatisfied'),\n",
    "                     (data_scientist_survey['JobSatisfaction'] == 'Slightly dissatisfied'),\n",
    "                     (data_scientist_survey['JobSatisfaction'] == 'Neither satisfied nor dissatisfied'),\n",
    "                     (data_scientist_survey['JobSatisfaction'] == 'Slightly satisfied'),\n",
    "                     (data_scientist_survey['JobSatisfaction'] == 'Moderately satisfied'),\n",
    "                     (data_scientist_survey['JobSatisfaction'] == 'Extremely satisfied')]\n",
    "    \n",
    "choices_sat = [1, 2, 3, 4, 5, 6, 7]\n",
    "data_scientist_survey['Conversion'] = np.select(conditions_sat, choices_sat, default = np.NaN)\n",
    "job_sat_converted = data_scientist_survey['Conversion']\n",
    "job_sat_mean = round(job_sat_converted.mean(), 2)\n",
    "print(f'The mean job satisfaction score of data scientists is: {job_sat_mean}')"
   ]
  },
  {
   "cell_type": "code",
   "execution_count": 127,
   "metadata": {},
   "outputs": [
    {
     "name": "stdout",
     "output_type": "stream",
     "text": [
      "The mean career satisfaction score of data scientists is: 5.22\n"
     ]
    }
   ],
   "source": [
    "conditions_csat = [(data_scientist_survey['CareerSatisfaction'] == 'Extremely dissatisfied'),\n",
    "                     (data_scientist_survey['CareerSatisfaction'] == 'Moderately dissatisfied'),\n",
    "                     (data_scientist_survey['CareerSatisfaction'] == 'Slightly dissatisfied'),\n",
    "                     (data_scientist_survey['CareerSatisfaction'] == 'Neither satisfied nor dissatisfied'),\n",
    "                     (data_scientist_survey['CareerSatisfaction'] == 'Slightly satisfied'),\n",
    "                     (data_scientist_survey['CareerSatisfaction'] == 'Moderately satisfied'),\n",
    "                     (data_scientist_survey['CareerSatisfaction'] == 'Extremely satisfied')]\n",
    "    \n",
    "choices_csat = [1, 2, 3, 4, 5, 6, 7]\n",
    "data_scientist_survey['car_Conversion'] = np.select(conditions_csat, choices_csat, default = np.NaN)\n",
    "car_sat_converted = data_scientist_survey['car_Conversion']\n",
    "car_sat_mean = round(car_sat_converted.mean(), 2)\n",
    "print(f'The mean career satisfaction score of data scientists is: {car_sat_mean}')"
   ]
  },
  {
   "cell_type": "code",
   "execution_count": 25,
   "metadata": {},
   "outputs": [
    {
     "name": "stdout",
     "output_type": "stream",
     "text": [
      "Male                                                                         4568\n",
      "Female                                                                        350\n",
      "Non-binary, genderqueer, or gender non-conforming                              27\n",
      "Female;Male;Transgender;Non-binary, genderqueer, or gender non-conforming      13\n",
      "Female;Male                                                                    13\n",
      "Male;Non-binary, genderqueer, or gender non-conforming                         11\n",
      "Female;Non-binary, genderqueer, or gender non-conforming                        8\n",
      "Female;Transgender                                                              7\n",
      "Transgender                                                                     5\n",
      "Transgender;Non-binary, genderqueer, or gender non-conforming                   5\n",
      "Male;Transgender                                                                3\n",
      "Female;Male;Transgender                                                         2\n",
      "Female;Transgender;Non-binary, genderqueer, or gender non-conforming            1\n",
      "Female;Male;Non-binary, genderqueer, or gender non-conforming                   1\n",
      "Name: Gender, dtype: int64\n"
     ]
    }
   ],
   "source": [
    "age_sat = data_scientist_survey['Gender'].value_counts()\n",
    "print(data_scientist_survey['Gender'].value_counts())"
   ]
  },
  {
   "cell_type": "code",
   "execution_count": 46,
   "metadata": {},
   "outputs": [],
   "source": [
    "find_gender = [(data_scientist_survey['Gender'] == 'Male'),\n",
    "               (data_scientist_survey['Gender'] == 'Female'),\n",
    "               (data_scientist_survey['Gender'] != 'Male') & (data_scientist_survey['Gender'] != 'Female') \n",
    "                & (pd.isnull(data_scientist_survey['Gender']) == False)]\n",
    "gender_options = ['Male', 'Female', 'Other']\n",
    "\n",
    "data_scientist_survey['Gender_clean'] = np.select(find_gender, gender_options, default = np.NaN)\n",
    "gender_narrowed = data_scientist_survey['Gender_clean']\n",
    "gen_nar_values = gender_narrowed.value_counts()"
   ]
  },
  {
   "cell_type": "code",
   "execution_count": 99,
   "metadata": {},
   "outputs": [],
   "source": [
    "data_scientist_survey\n",
    "age_v_sat = pd.DataFrame()a \n",
    "age_v_sat = data_scientist_survey[['Age_mid_range', 'Conversion']]\n",
    "age_v_sat = age_v_sat[pd.notnull(age_v_sat['Age_mid_range'])]\n",
    "age_v_sat = age_v_sat[pd.notnull(age_v_sat['Conversion'])]\n",
    "amr = age_v_sat['Age_mid_range']\n",
    "conv = age_v_sat['Conversion']"
   ]
  },
  {
   "cell_type": "code",
   "execution_count": 100,
   "metadata": {},
   "outputs": [
    {
     "data": {
      "image/png": "[encoded data removed]",
      "text/plain": [
       "<Figure size 432x288 with 1 Axes>"
      ]
     },
     "metadata": {},
     "output_type": "display_data"
    }
   ],
   "source": [
    "x = amr\n",
    "y = conv\n",
    "s = age_v_sat['Conversion'].value_counts()/8\n",
    "plt.scatter(x, y, s)\n",
    "plt.title(\"Age vs Job Satisfaction\")\n",
    "plt.xlabel(\"Age\")\n",
    "plt.ylabel(\"Satisfaction Higher = Better\")\n",
    "_ = plt.plot()"
   ]
  },
  {
   "cell_type": "code",
   "execution_count": 116,
   "metadata": {},
   "outputs": [],
   "source": [
    "gender_v_sat = pd.DataFrame()\n",
    "gender_v_sat = data_scientist_survey[['Gender_clean', 'Conversion']]\n",
    "gender_v_sat = gender_v_sat[pd.notnull(gender_v_sat['Gender_clean'])]\n",
    "gender_v_sat = gender_v_sat[pd.notnull(gender_v_sat['Conversion'])]\n",
    "gend = gender_v_sat['Gender_clean']\n",
    "conv = gender_v_sat['Conversion']"
   ]
  },
  {
   "cell_type": "code",
   "execution_count": 119,
   "metadata": {},
   "outputs": [
    {
     "data": {
      "image/png": "[encoded data removed]",
      "text/plain": [
       "<Figure size 432x288 with 1 Axes>"
      ]
     },
     "metadata": {},
     "output_type": "display_data"
    }
   ],
   "source": [
    "x = gend\n",
    "y = conv\n",
    "s2 = gender_v_sat['Conversion'].value_counts()/8\n",
    "plt.scatter(x, y, s2)\n",
    "plt.title(\"Gender vs Job Satisfaction\")\n",
    "plt.xlabel(\"Gender\")\n",
    "plt.ylabel(\"Satisfaction Higher = Better\")\n",
    "_ = plt.plot()"
   ]
  },
  {
   "cell_type": "code",
   "execution_count": 121,
   "metadata": {},
   "outputs": [
    {
     "name": "stdout",
     "output_type": "stream",
     "text": [
      "I’m not actively looking, but I am open to new opportunities    3700\n",
      "I am not interested in new job opportunities                    1439\n",
      "I am actively looking for a job                                 1129\n",
      "Name: JobSearchStatus, dtype: int64\n"
     ]
    }
   ],
   "source": [
    "job_search = data_scientist_survey['JobSearchStatus'].value_counts()\n",
    "print(data_scientist_survey['JobSearchStatus'].value_counts())"
   ]
  },
  {
   "cell_type": "code",
   "execution_count": 122,
   "metadata": {},
   "outputs": [
    {
     "data": {
      "image/png": "[encoded data removed]",
      "text/plain": [
       "<Figure size 432x288 with 1 Axes>"
      ]
     },
     "metadata": {},
     "output_type": "display_data"
    }
   ],
   "source": [
    "# Labels for the sections of our pie chart\n",
    "labels = [\"Open\", \"Staying Put\", \"Looking\"]\n",
    "\n",
    "# The colors of each section of the pie chart\n",
    "colors = [\"red\", \"lightcoral\", \"lightskyblue\"]\n",
    "\n",
    "# Tells matplotlib to seperate the \"Python\" section from the others\n",
    "explode = (0.1, .1, .1)\n",
    "\n",
    "plt.pie(job_search, explode=explode, labels=labels, colors=colors,\n",
    "        autopct=\"%1.1f%%\", shadow=True, startangle=140)\n",
    "\n",
    "_ = plt.plot()"
   ]
  },
  {
   "cell_type": "markdown",
   "metadata": {},
   "source": [
    "##### "
   ]
  }
 ],
 "metadata": {
  "kernelspec": {
   "display_name": "Python 3",
   "language": "python",
   "name": "python3"
  },
  "language_info": {
   "codemirror_mode": {
    "name": "ipython",
    "version": 3
   },
   "file_extension": ".py",
   "mimetype": "text/x-python",
   "name": "python",
   "nbconvert_exporter": "python",
   "pygments_lexer": "ipython3",
   "version": "3.6.5"
  }
 },
 "nbformat": 4,
 "nbformat_minor": 2
}
