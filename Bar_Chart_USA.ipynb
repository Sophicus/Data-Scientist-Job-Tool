{
 "cells": [
  {
   "cell_type": "code",
   "execution_count": 49,
   "metadata": {},
   "outputs": [],
   "source": [
    "import matplotlib.pyplot as plt\n",
    "import pandas as pd\n",
    "import numpy as np"
   ]
  },
  {
   "cell_type": "code",
   "execution_count": 50,
   "metadata": {},
   "outputs": [
    {
     "data": {
      "text/plain": [
       "18"
      ]
     },
     "execution_count": 50,
     "metadata": {},
     "output_type": "execute_result"
    }
   ],
   "source": [
    "df_AL = pd.read_csv(\"Resources/fulltimeAL.csv\")\n",
    "df_AL = df_AL.loc[df_AL[\"position\"]==\"Data Scientist\",:]\n",
    "count_AL = df_AL[\"position\"].count()\n",
    "count_AL"
   ]
  },
  {
   "cell_type": "code",
   "execution_count": 51,
   "metadata": {},
   "outputs": [
    {
     "data": {
      "text/plain": [
       "7"
      ]
     },
     "execution_count": 51,
     "metadata": {},
     "output_type": "execute_result"
    }
   ],
   "source": [
    "df_AT = pd.read_csv(\"Resources/fulltimeAT.csv\")\n",
    "df_AT = df_AT.loc[df_AT[\"position\"]==\"Data Scientist\",:]\n",
    "count_AT = df_AT[\"position\"].count()\n",
    "count_AT"
   ]
  },
  {
   "cell_type": "code",
   "execution_count": 52,
   "metadata": {},
   "outputs": [
    {
     "data": {
      "text/plain": [
       "4"
      ]
     },
     "execution_count": 52,
     "metadata": {},
     "output_type": "execute_result"
    }
   ],
   "source": [
    "df_BO = pd.read_csv(\"Resources/fulltimeBO.csv\")\n",
    "df_BO = df_BO.loc[df_BO[\"position\"]==\"Data Scientist\",:]\n",
    "count_BO = df_BO[\"position\"].count()\n",
    "count_BO"
   ]
  },
  {
   "cell_type": "code",
   "execution_count": 53,
   "metadata": {},
   "outputs": [
    {
     "data": {
      "text/plain": [
       "25"
      ]
     },
     "execution_count": 53,
     "metadata": {},
     "output_type": "execute_result"
    }
   ],
   "source": [
    "df_BOS = pd.read_csv(\"Resources/fulltimeBOS.csv\")\n",
    "df_BOS = df_BOS.loc[df_BOS[\"position\"]==\"Data Scientist\",:]\n",
    "count_BOS = df_BOS[\"position\"].count()\n",
    "count_BOS"
   ]
  },
  {
   "cell_type": "code",
   "execution_count": 54,
   "metadata": {},
   "outputs": [
    {
     "data": {
      "text/plain": [
       "26"
      ]
     },
     "execution_count": 54,
     "metadata": {},
     "output_type": "execute_result"
    }
   ],
   "source": [
    "df_CHI = pd.read_csv(\"Resources/fulltimeCHI.csv\")\n",
    "df_CHI = df_CHI.loc[df_CHI[\"position\"]==\"Data Scientist\",:]\n",
    "count_CHI = df_CHI[\"position\"].count()\n",
    "count_CHI"
   ]
  },
  {
   "cell_type": "code",
   "execution_count": 55,
   "metadata": {},
   "outputs": [
    {
     "data": {
      "text/plain": [
       "21"
      ]
     },
     "execution_count": 55,
     "metadata": {},
     "output_type": "execute_result"
    }
   ],
   "source": [
    "df_DC = pd.read_csv(\"Resources/fulltimeDC.csv\")\n",
    "df_DC = df_DC.loc[df_DC[\"position\"]==\"Data Scientist\",:]\n",
    "count_DC = df_DC[\"position\"].count()\n",
    "count_DC"
   ]
  },
  {
   "cell_type": "code",
   "execution_count": 56,
   "metadata": {},
   "outputs": [
    {
     "data": {
      "text/plain": [
       "14"
      ]
     },
     "execution_count": 56,
     "metadata": {},
     "output_type": "execute_result"
    }
   ],
   "source": [
    "df_LA = pd.read_csv(\"Resources/fulltimeLA.csv\")\n",
    "df_LA = df_LA.loc[df_LA[\"position\"]==\"Data Scientist\",:]\n",
    "count_LA = df_LA[\"position\"].count()\n",
    "count_LA"
   ]
  },
  {
   "cell_type": "code",
   "execution_count": 57,
   "metadata": {},
   "outputs": [
    {
     "data": {
      "text/plain": [
       "4"
      ]
     },
     "execution_count": 57,
     "metadata": {},
     "output_type": "execute_result"
    }
   ],
   "source": [
    "df_MA = pd.read_csv(\"Resources/fulltimeMA.csv\")\n",
    "df_MA = df_MA.loc[df_MA[\"position\"]==\"Data Scientist\",:]\n",
    "count_MA = df_MA[\"position\"].count()\n",
    "count_MA"
   ]
  },
  {
   "cell_type": "code",
   "execution_count": 58,
   "metadata": {},
   "outputs": [
    {
     "data": {
      "text/plain": [
       "9"
      ]
     },
     "execution_count": 58,
     "metadata": {},
     "output_type": "execute_result"
    }
   ],
   "source": [
    "df_MV = pd.read_csv(\"Resources/fulltimeMV.csv\")\n",
    "df_MV = df_MV.loc[df_MV[\"position\"]==\"Data Scientist\",:]\n",
    "count_MV = df_MV[\"position\"].count()\n",
    "count_MV"
   ]
  },
  {
   "cell_type": "code",
   "execution_count": 59,
   "metadata": {},
   "outputs": [
    {
     "data": {
      "text/plain": [
       "103"
      ]
     },
     "execution_count": 59,
     "metadata": {},
     "output_type": "execute_result"
    }
   ],
   "source": [
    "df_NY = pd.read_csv(\"Resources/fulltimeNY.csv\")\n",
    "df_NY = df_NY.loc[df_NY[\"position\"]==\"Data Scientist\",:]\n",
    "count_NY = df_NY[\"position\"].count()\n",
    "count_NY"
   ]
  },
  {
   "cell_type": "code",
   "execution_count": 60,
   "metadata": {},
   "outputs": [
    {
     "data": {
      "text/plain": [
       "4"
      ]
     },
     "execution_count": 60,
     "metadata": {},
     "output_type": "execute_result"
    }
   ],
   "source": [
    "df_RM = pd.read_csv(\"Resources/fulltimeRM.csv\")\n",
    "df_RM = df_RM.loc[df_RM[\"position\"]==\"Data Scientist\",:]\n",
    "count_RM = df_RM[\"position\"].count()\n",
    "count_RM"
   ]
  },
  {
   "cell_type": "code",
   "execution_count": 61,
   "metadata": {},
   "outputs": [
    {
     "data": {
      "text/plain": [
       "12"
      ]
     },
     "execution_count": 61,
     "metadata": {},
     "output_type": "execute_result"
    }
   ],
   "source": [
    "df_SD = pd.read_csv(\"Resources/fulltimeSD.csv\")\n",
    "df_SD = df_SD.loc[df_SD[\"position\"]==\"Data Scientist\",:]\n",
    "count_SD = df_SD[\"position\"].count()\n",
    "count_SD"
   ]
  },
  {
   "cell_type": "code",
   "execution_count": 62,
   "metadata": {},
   "outputs": [
    {
     "data": {
      "text/plain": [
       "11"
      ]
     },
     "execution_count": 62,
     "metadata": {},
     "output_type": "execute_result"
    }
   ],
   "source": [
    "df_SEA = pd.read_csv(\"Resources/fulltimeSEA.csv\")\n",
    "df_SEA = df_SEA.loc[df_SEA[\"position\"]==\"Data Scientist\",:]\n",
    "count_SEA = df_SEA[\"position\"].count()\n",
    "count_SEA"
   ]
  },
  {
   "cell_type": "code",
   "execution_count": 63,
   "metadata": {},
   "outputs": [
    {
     "data": {
      "text/plain": [
       "89"
      ]
     },
     "execution_count": 63,
     "metadata": {},
     "output_type": "execute_result"
    }
   ],
   "source": [
    "df_SF = pd.read_csv(\"Resources/fulltimeSF.csv\")\n",
    "df_SF = df_SF.loc[df_SF[\"position\"]==\"Data Scientist\",:]\n",
    "count_SF = df_SF[\"position\"].count()\n",
    "count_SF"
   ]
  },
  {
   "cell_type": "code",
   "execution_count": 64,
   "metadata": {},
   "outputs": [
    {
     "data": {
      "text/plain": [
       "4"
      ]
     },
     "execution_count": 64,
     "metadata": {},
     "output_type": "execute_result"
    }
   ],
   "source": [
    "df_SU = pd.read_csv(\"Resources/fulltimeSU.csv\")\n",
    "df_SU = df_SU.loc[df_SU[\"position\"]==\"Data Scientist\",:]\n",
    "count_SU = df_SU[\"position\"].count()\n",
    "count_SU"
   ]
  },
  {
   "cell_type": "code",
   "execution_count": 65,
   "metadata": {},
   "outputs": [
    {
     "name": "stdout",
     "output_type": "stream",
     "text": [
      "[18, 7, 4, 25, 26, 21, 14, 4, 9, 103, 4, 12, 11, 89, 4]\n"
     ]
    }
   ],
   "source": [
    "\n",
    "count_ALL = [count_AL,count_AT,count_BO,count_BOS,count_CHI,count_DC,count_LA,count_MA,count_MV,count_NY,count_RM,count_SD,count_SEA,count_SF,count_SU]\n",
    "print(count_ALL)"
   ]
  },
  {
   "cell_type": "code",
   "execution_count": 67,
   "metadata": {},
   "outputs": [
    {
     "data": {
      "text/plain": [
       "array([ 0,  1,  2,  3,  4,  5,  6,  7,  8,  9, 10, 11, 12, 13, 14])"
      ]
     },
     "execution_count": 67,
     "metadata": {},
     "output_type": "execute_result"
    }
   ],
   "source": [
    "labels = [\"AL\",\"AT\",\"BO\",\"BOS\",\"CHI\",\"DC\",\"LA\",\"MA\",\"MV\",\"NY\",\"RM\",\"SD\",\"SEA\",\"SF\",\"SU\"]\n",
    "count_of_State = np.arange(len(labels))\n",
    "count_of_State"
   ]
  },
  {
   "cell_type": "code",
   "execution_count": 69,
   "metadata": {},
   "outputs": [
    {
     "data": {
      "text/plain": [
       "<function matplotlib.pyplot.show(*args, **kw)>"
      ]
     },
     "execution_count": 69,
     "metadata": {},
     "output_type": "execute_result"
    },
    {
     "data": {
      "image/png": "[encoded data removed]",
      "text/plain": [
       "<Figure size 864x864 with 1 Axes>"
      ]
     },
     "metadata": {},
     "output_type": "display_data"
    }
   ],
   "source": [
    "plt.figure(figsize=(12,12))\n",
    "plt.bar(count_of_State,count_ALL,color=\"red\")\n",
    "plt.xticks(count_of_State,labels)\n",
    "plt.savefig(\"Output\\Bar_Chart_USA.png\")\n",
    "plt.show"
   ]
  },
  {
   "cell_type": "code",
   "execution_count": null,
   "metadata": {},
   "outputs": [],
   "source": []
  }
 ],
 "metadata": {
  "kernelspec": {
   "display_name": "Python 3",
   "language": "python",
   "name": "python3"
  },
  "language_info": {
   "codemirror_mode": {
    "name": "ipython",
    "version": 3
   },
   "file_extension": ".py",
   "mimetype": "text/x-python",
   "name": "python",
   "nbconvert_exporter": "python",
   "pygments_lexer": "ipython3",
   "version": "3.6.5"
  }
 },
 "nbformat": 4,
 "nbformat_minor": 2
}
